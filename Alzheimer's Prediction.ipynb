{
 "cells": [
  {
   "cell_type": "markdown",
   "metadata": {},
   "source": [
    "<img src=\"assets/images/banner.jpg\" alt=\"banner\" style=\"background-color: #ecf0f1; border-radius: 5px; text-align:center; color:#080205; font-weight:800; text-shadow: 2px 2px 2px #888888;\">"
   ]
  },
  {
   "cell_type": "markdown",
   "metadata": {},
   "source": [
    "<div style=\"padding: 10px; border-radius: 5px; color:#080205; font-family: 'Times New Roman', Times, serif;\">\n",
    "    <h1 style=\"font-weight:800; font-size:30px;\">Introduction</h1>\n",
    "    Alzheimer's disease is a complex neurodegenerative disorder that affects millions of people worldwide. Early detection and prediction of Alzheimer's can lead to better management and treatment outcomes. This prediction system utilizes a machine learning model trained on a dataset of relevant features to provide predictions about the likelihood of Alzheimer's disease.\n",
    "    <h1 style=\"font-weight:800; font-size:30px;\">About Alzheimer's Disease</h1>\n",
    "    Alzheimer's disease (AD) is a progressive neurodegenerative disease. Though best known for its role in declining memory function, symptoms also include: difficulty thinking and reasoning, making judgements and decisions, and planning and performing familiar tasks. It may also cause alterations in personality and behavior. The cause of AD is not well understood. There is thought to be a significant hereditary component. For example, a variation of the APOE gene, APOE e4, increases risk of Alzheimer's disease.\n",
    "    <h1 style=\"font-weight:800; font-size:30px;\">Purpose of the project</h1>\n",
    "    The purpose of this project proposal is to develop a machine learning model for the early prediction of Alzheimer's disease. Alzheimer's disease is a devastating neurodegenerative disorder that affects millions of individuals worldwide. Early detection is crucial for better patient care and the development of potential interventions. This project aims to leverage machine learning techniques to create a predictive model that can identify individuals at risk of Alzheimer's disease based on relevant data.\n",
    "    <h1 style=\"font-weight:800; font-size:30px;\">Potential Impact</h1>\n",
    "    The potential impact of this project on the issue of Alzheimer's disease is significant:\n",
    "    - Early prediction of Alzheimer's disease can lead to timely interventions, potentially slowing down the progression of the disease.\n",
    "    - Accurate prediction models can aid in identifying suitable candidates for clinical trials and research studies.\n",
    "    - Providing a tool for early prediction can raise awareness about Alzheimer's disease and encourage individuals to seek early medical evaluation.\n",
    "    <br><br>\n",
    "    The model will be trained on a dataset collected from <a href=\"https://adni.loni.usc.edu/\">Alzheimer’s Disease Neuroimaging Initiative (ADNI)</a>. This dataset is a comprehensive collection of clinical, imaging, and genetic data from individuals with Alzheimer's disease.\n",
    "</div>\n",
    "\n",
    "<h2 style=\"color: #000; font-family: 'Times New Roman', Times, serif;\"><b>Variable Descriptions</b></h2>\n",
    "<table style=\"color: #000; width: 100%; border-collapse: collapse; margin-bottom: 20px;\">\n",
    "    <tr>\n",
    "        <th style=\"color: #fff; background-color: #080205; border: 1px solid #fff; padding: 8px; text-align: left;\">Variable</th>\n",
    "        <th style=\"color: #fff; background-color: #080205; border: 1px solid #fff; padding: 8px; text-align: left;\">Description</th>\n",
    "    </tr>\n",
    "    <tr>\n",
    "        <td style=\"border: 1px solid #fff; padding: 8px; text-align: left;\">index</td>\n",
    "        <td style=\"border: 1px solid #fff; padding: 8px; text-align: left;\">A numerical index for each row in the dataframe.</td>\n",
    "    </tr>\n",
    "    <tr>\n",
    "        <td style=\"border: 1px solid #fff; padding: 8px; text-align: left;\">directory.id</td>\n",
    "        <td style=\"border: 1px solid #fff; padding: 8px; text-align: left;\">A unique identifier for each row in the dataframe.</td>\n",
    "    </tr>\n",
    "    <tr>\n",
    "        <td style=\"border: 1px solid #fff; padding: 8px; text-align: left;\">Subject</td>\n",
    "        <td style=\"border: 1px solid #fff; padding: 8px; text-align: left;\">A unique identifier for each subject in the dataframe.</td>\n",
    "    </tr>\n",
    "    <tr>\n",
    "        <td style=\"border: 1px solid #fff; padding: 8px; text-align: left;\">RID</td>\n",
    "        <td style=\"border: 1px solid #fff; padding: 8px; text-align: left;\">A numerical identifier for each subject in the dataframe.</td>\n",
    "    </tr>\n",
    "    <tr>\n",
    "        <td style=\"border: 1px solid #fff; padding: 8px; text-align: left;\">image.data.id</td>\n",
    "        <td style=\"border: 1px solid #fff; padding: 8px; text-align: left;\">A numerical identifier for each image in the dataframe.</td>\n",
    "    </tr>\n",
    "    <tr>\n",
    "        <td style=\"border: 1px solid #fff; padding: 8px; text-align: left;\">Modality</td>\n",
    "        <td style=\"border: 1px solid #fff; padding: 8px; text-align: left;\">The type of imaging used to collect the data (MRI).</td>\n",
    "    </tr>\n",
    "    <tr>\n",
    "        <td style=\"border: 1px solid #fff; padding: 8px; text-align: left;\">Visit</td>\n",
    "        <td style=\"border: 1px solid #fff; padding: 8px; text-align: left;\">The visit number associated with the data.</td>\n",
    "    </tr>\n",
    "    <tr>\n",
    "        <td style=\"border: 1px solid #fff; padding: 8px; text-align: left;\">Acq.Date</td>\n",
    "        <td style=\"border: 1px solid #fff; padding: 8px; text-align: left;\">The date on which the data was acquired.</td>\n",
    "    </tr>\n",
    "    <tr>\n",
    "        <td style=\"border: 1px solid #fff; padding: 8px; text-align: left;\">DX.bl</td>\n",
    "        <td style=\"border: 1px solid #fff; padding: 8px; text-align: left;\">The diagnosis at baseline (AD, LMCI, or CN).</td>\n",
    "    </tr>\n",
    "    <tr>\n",
    "        <td style=\"border: 1px solid #fff; padding: 8px; text-align: left;\">EXAMDATE</td>\n",
    "        <td style=\"border: 1px solid #fff; padding: 8px; text-align: left;\">The date of the exam associated with the data.</td>\n",
    "    </tr>\n",
    "    <tr>\n",
    "        <td style=\"border: 1px solid #fff; padding: 8px; text-align: left;\">AGE</td>\n",
    "        <td style=\"border: 1px solid #fff; padding: 8px; text-align: left;\">The age of the subject at the time of the exam.</td>\n",
    "    </tr>\n",
    "    <tr>\n",
    "        <td style=\"border: 1px solid #fff; padding: 8px; text-align: left;\">PTGENDER</td>\n",
    "        <td style=\"border: 1px solid #fff; padding: 8px; text-align: left;\">The gender of the subject.</td>\n",
    "    </tr>\n",
    "    <tr>\n",
    "        <td style=\"border: 1px solid #fff; padding: 8px; text-align: left;\">PTEDUCAT</td>\n",
    "        <td style=\"border: 1px solid #fff; padding: 8px; text-align: left;\">The educational level of the subject.</td>\n",
    "    </tr>\n",
    "    <tr>\n",
    "        <td style=\"border: 1px solid #fff; padding: 8px; text-align: left;\">PTETHCAT</td>\n",
    "        <td style=\"border: 1px solid #fff; padding: 8px; text-align: left;\">The ethnicity of the subject (Hisp/Latino or Not Hisp/Latino).</td>\n",
    "    </tr>\n",
    "    <tr>\n",
    "        <td style=\"border: 1px solid #fff; padding: 8px; text-align: left;\">PTRACCAT</td>\n",
    "        <td style=\"border: 1px solid #fff; padding: 8px; text-align: left;\">The race of the subject (White).</td>\n",
    "    </tr>\n",
    "    <tr>\n",
    "        <td style=\"border: 1px solid #fff; padding: 8px; text-align: left;\">APOE4</td>\n",
    "        <td style=\"border: 1px solid #fff; padding: 8px; text-align: left;\">The APOE4 genotype of the subject (0, 1, or 2).</td>\n",
    "    </tr>\n",
    "    <tr>\n",
    "        <td style=\"border: 1px solid #fff; padding: 8px; text-align: left;\">MMSE</td>\n",
    "        <td style=\"border: 1px solid #fff; padding: 8px; text-align: left;\">The Mini-Mental State Examination score of the subject.</td>\n",
    "    </tr>\n",
    "    <tr>\n",
    "        <td style=\"border: 1px solid #fff; padding: 8px; text-align: left;\">imputed_genotype</td>\n",
    "        <td style=\"border: 1px solid #fff; padding: 8px; text-align: left;\">Whether or not the genotype was imputed (True or False).</td>\n",
    "    </tr>\n",
    "    <tr>\n",
    "        <td style=\"border: 1px solid #fff; padding: 8px; text-align: left;\">APOE Genotype</td>\n",
    "        <td style=\"border: 1px solid #fff; padding: 8px; text-align: left;\">The APOE genotype of the subject (3,3; 3,4; 4,3; 4,4).</td>\n",
    "    </tr>\n",
    "    <tr>\n",
    "        <td style=\"border: 1px solid #fff; padding: 8px; text-align: left;\">Dx Codes for Submission</td>\n",
    "        <td style=\"border: 1px solid #fff; padding: 8px; text-align: left;\">The diagnosis code for submission (AD, MCI, or CN).</td>\n",
    "    </tr>\n",
    "</table>"
   ]
  },
  {
   "cell_type": "markdown",
   "metadata": {},
   "source": [
    "<h1 style=\"background-color: #080205; padding: 10px; border-radius: 5px; text-align:center; color:#ecf0f1; font-weight:600; text-shadow: 2px 2px 2px #888888;\">\n",
    "    Importing the libraries\n",
    "</h1>"
   ]
  },
  {
   "cell_type": "code",
   "execution_count": 2,
   "metadata": {},
   "outputs": [],
   "source": [
    "import joblib\n",
    "import numpy as np\n",
    "import pandas as pd\n",
    "import seaborn as sns\n",
    "import matplotlib.pyplot as plt\n",
    "\n",
    "from sklearn.model_selection import train_test_split\n",
    "from sklearn.linear_model import LogisticRegression\n",
    "from sklearn.ensemble import RandomForestClassifier\n",
    "from sklearn.neural_network import MLPClassifier\n",
    "from sklearn.discriminant_analysis import LinearDiscriminantAnalysis \n",
    "from sklearn.ensemble import GradientBoostingClassifier\n",
    "from sklearn.linear_model import RidgeClassifier\n",
    "from sklearn.model_selection import cross_val_score\n",
    "from sklearn.metrics import accuracy_score, precision_score, recall_score, f1_score, confusion_matrix"
   ]
  },
  {
   "cell_type": "code",
   "execution_count": 3,
   "metadata": {},
   "outputs": [],
   "source": [
    "data = pd.read_csv('data/ADNI_Training_Q3_APOE_CollectionADNI1Complete 1Yr 1.5T_July22.2014.csv')"
   ]
  },
  {
   "cell_type": "markdown",
   "metadata": {},
   "source": [
    "<h1 style=\"background-color: #080205; padding: 10px; border-radius: 5px; text-align:center; color:#ecf0f1; font-weight:600; text-shadow: 2px 2px 2px #888888;\">\n",
    "    Preprocessing\n",
    "</h1>"
   ]
  },
  {
   "cell_type": "markdown",
   "metadata": {},
   "source": [
    "<div style=\"text-align:center; color:black; font-weight:600; font-family: 'Courier New', Times, serif; font-size: 1.7em;\">\n",
    "    Checking for NULL values\n",
    "</div>"
   ]
  },
  {
   "cell_type": "code",
   "execution_count": 4,
   "metadata": {},
   "outputs": [
    {
     "data": {
      "text/plain": [
       "directory.id               0\n",
       "Subject                    0\n",
       "RID                        0\n",
       "Image.Data.ID              0\n",
       "Modality                   0\n",
       "Visit                      0\n",
       "Acq.Date                   0\n",
       "DX.bl                      0\n",
       "EXAMDATE                   0\n",
       "AGE                        0\n",
       "PTGENDER                   0\n",
       "PTEDUCAT                   0\n",
       "PTETHCAT                   0\n",
       "PTRACCAT                   0\n",
       "APOE4                      0\n",
       "MMSE                       0\n",
       "imputed_genotype           1\n",
       "APOE Genotype              0\n",
       "Dx Codes for Submission    0\n",
       "dtype: int64"
      ]
     },
     "execution_count": 4,
     "metadata": {},
     "output_type": "execute_result"
    }
   ],
   "source": [
    "data.isnull().sum()"
   ]
  },
  {
   "cell_type": "markdown",
   "metadata": {},
   "source": [
    "<div style=\"text-align:center; color:black; font-weight:600; font-family: 'Courier New', Times, serif; font-size: 1.7em;\">\n",
    "    Deleting NULL values\n",
    "</div>"
   ]
  },
  {
   "cell_type": "code",
   "execution_count": 5,
   "metadata": {},
   "outputs": [
    {
     "data": {
      "text/plain": [
       "0"
      ]
     },
     "execution_count": 5,
     "metadata": {},
     "output_type": "execute_result"
    }
   ],
   "source": [
    "data = data.dropna()\n",
    "data.isnull().sum().sum()"
   ]
  },
  {
   "cell_type": "code",
   "execution_count": 6,
   "metadata": {},
   "outputs": [
    {
     "data": {
      "text/html": [
       "<div>\n",
       "<style scoped>\n",
       "    .dataframe tbody tr th:only-of-type {\n",
       "        vertical-align: middle;\n",
       "    }\n",
       "\n",
       "    .dataframe tbody tr th {\n",
       "        vertical-align: top;\n",
       "    }\n",
       "\n",
       "    .dataframe thead th {\n",
       "        text-align: right;\n",
       "    }\n",
       "</style>\n",
       "<table border=\"1\" class=\"dataframe\">\n",
       "  <thead>\n",
       "    <tr style=\"text-align: right;\">\n",
       "      <th></th>\n",
       "      <th>directory.id</th>\n",
       "      <th>Subject</th>\n",
       "      <th>RID</th>\n",
       "      <th>Image.Data.ID</th>\n",
       "      <th>Modality</th>\n",
       "      <th>Visit</th>\n",
       "      <th>Acq.Date</th>\n",
       "      <th>DX.bl</th>\n",
       "      <th>EXAMDATE</th>\n",
       "      <th>AGE</th>\n",
       "      <th>PTGENDER</th>\n",
       "      <th>PTEDUCAT</th>\n",
       "      <th>PTETHCAT</th>\n",
       "      <th>PTRACCAT</th>\n",
       "      <th>APOE4</th>\n",
       "      <th>MMSE</th>\n",
       "      <th>imputed_genotype</th>\n",
       "      <th>APOE Genotype</th>\n",
       "      <th>Dx Codes for Submission</th>\n",
       "    </tr>\n",
       "  </thead>\n",
       "  <tbody>\n",
       "    <tr>\n",
       "      <th>0</th>\n",
       "      <td>4702245ea294ce5d4e9b8a87027dfdf4</td>\n",
       "      <td>011_S_0003</td>\n",
       "      <td>3</td>\n",
       "      <td>32237</td>\n",
       "      <td>MRI</td>\n",
       "      <td>1</td>\n",
       "      <td>09-01-2005</td>\n",
       "      <td>AD</td>\n",
       "      <td>09-12-2005</td>\n",
       "      <td>81.3</td>\n",
       "      <td>Male</td>\n",
       "      <td>18</td>\n",
       "      <td>Not Hisp/Latino</td>\n",
       "      <td>White</td>\n",
       "      <td>1</td>\n",
       "      <td>20</td>\n",
       "      <td>True</td>\n",
       "      <td>3,4</td>\n",
       "      <td>AD</td>\n",
       "    </tr>\n",
       "    <tr>\n",
       "      <th>1</th>\n",
       "      <td>2e89e352af743597b2368c412e0f6de2</td>\n",
       "      <td>022_S_0004</td>\n",
       "      <td>4</td>\n",
       "      <td>64631</td>\n",
       "      <td>MRI</td>\n",
       "      <td>1</td>\n",
       "      <td>9/22/05</td>\n",
       "      <td>LMCI</td>\n",
       "      <td>11-08-2005</td>\n",
       "      <td>67.5</td>\n",
       "      <td>Male</td>\n",
       "      <td>10</td>\n",
       "      <td>Hisp/Latino</td>\n",
       "      <td>White</td>\n",
       "      <td>0</td>\n",
       "      <td>27</td>\n",
       "      <td>False</td>\n",
       "      <td>3,3</td>\n",
       "      <td>MCI</td>\n",
       "    </tr>\n",
       "    <tr>\n",
       "      <th>2</th>\n",
       "      <td>90419199306997753de8042f1fd55e38</td>\n",
       "      <td>011_S_0005</td>\n",
       "      <td>5</td>\n",
       "      <td>32246</td>\n",
       "      <td>MRI</td>\n",
       "      <td>1</td>\n",
       "      <td>09-02-2005</td>\n",
       "      <td>CN</td>\n",
       "      <td>09-07-2005</td>\n",
       "      <td>73.7</td>\n",
       "      <td>Male</td>\n",
       "      <td>16</td>\n",
       "      <td>Not Hisp/Latino</td>\n",
       "      <td>White</td>\n",
       "      <td>0</td>\n",
       "      <td>29</td>\n",
       "      <td>True</td>\n",
       "      <td>3,3</td>\n",
       "      <td>CN</td>\n",
       "    </tr>\n",
       "  </tbody>\n",
       "</table>\n",
       "</div>"
      ],
      "text/plain": [
       "                       directory.id     Subject  RID  Image.Data.ID Modality  \\\n",
       "0  4702245ea294ce5d4e9b8a87027dfdf4  011_S_0003    3          32237      MRI   \n",
       "1  2e89e352af743597b2368c412e0f6de2  022_S_0004    4          64631      MRI   \n",
       "2  90419199306997753de8042f1fd55e38  011_S_0005    5          32246      MRI   \n",
       "\n",
       "   Visit    Acq.Date DX.bl    EXAMDATE   AGE PTGENDER  PTEDUCAT  \\\n",
       "0      1  09-01-2005    AD  09-12-2005  81.3     Male        18   \n",
       "1      1     9/22/05  LMCI  11-08-2005  67.5     Male        10   \n",
       "2      1  09-02-2005    CN  09-07-2005  73.7     Male        16   \n",
       "\n",
       "          PTETHCAT PTRACCAT  APOE4  MMSE imputed_genotype APOE Genotype  \\\n",
       "0  Not Hisp/Latino    White      1    20             True           3,4   \n",
       "1      Hisp/Latino    White      0    27            False           3,3   \n",
       "2  Not Hisp/Latino    White      0    29             True           3,3   \n",
       "\n",
       "  Dx Codes for Submission  \n",
       "0                      AD  \n",
       "1                     MCI  \n",
       "2                      CN  "
      ]
     },
     "execution_count": 6,
     "metadata": {},
     "output_type": "execute_result"
    }
   ],
   "source": [
    "data.head(3)"
   ]
  },
  {
   "cell_type": "markdown",
   "metadata": {},
   "source": [
    "<div style=\"text-align:center; color:black; font-weight:600; font-family: 'Courier New', Times, serif; font-size: 1.7em;\">\n",
    "    Declaring Features (X) and Target (y) columns\n",
    "</div>"
   ]
  },
  {
   "cell_type": "code",
   "execution_count": 7,
   "metadata": {},
   "outputs": [
    {
     "name": "stdout",
     "output_type": "stream",
     "text": [
      "Removing columns: ['directory.id', 'Subject', 'RID', 'Image.Data.ID', 'Modality', 'Visit', 'Acq.Date', 'DX.bl', 'EXAMDATE', 'Dx Codes for Submission']\n"
     ]
    },
    {
     "data": {
      "text/html": [
       "<div>\n",
       "<style scoped>\n",
       "    .dataframe tbody tr th:only-of-type {\n",
       "        vertical-align: middle;\n",
       "    }\n",
       "\n",
       "    .dataframe tbody tr th {\n",
       "        vertical-align: top;\n",
       "    }\n",
       "\n",
       "    .dataframe thead th {\n",
       "        text-align: right;\n",
       "    }\n",
       "</style>\n",
       "<table border=\"1\" class=\"dataframe\">\n",
       "  <thead>\n",
       "    <tr style=\"text-align: right;\">\n",
       "      <th></th>\n",
       "      <th>AGE</th>\n",
       "      <th>PTGENDER</th>\n",
       "      <th>PTEDUCAT</th>\n",
       "      <th>PTETHCAT</th>\n",
       "      <th>PTRACCAT</th>\n",
       "      <th>APOE4</th>\n",
       "      <th>MMSE</th>\n",
       "      <th>imputed_genotype</th>\n",
       "      <th>APOE Genotype</th>\n",
       "    </tr>\n",
       "  </thead>\n",
       "  <tbody>\n",
       "    <tr>\n",
       "      <th>0</th>\n",
       "      <td>81.3</td>\n",
       "      <td>Male</td>\n",
       "      <td>18</td>\n",
       "      <td>Not Hisp/Latino</td>\n",
       "      <td>White</td>\n",
       "      <td>1</td>\n",
       "      <td>20</td>\n",
       "      <td>True</td>\n",
       "      <td>3,4</td>\n",
       "    </tr>\n",
       "    <tr>\n",
       "      <th>1</th>\n",
       "      <td>67.5</td>\n",
       "      <td>Male</td>\n",
       "      <td>10</td>\n",
       "      <td>Hisp/Latino</td>\n",
       "      <td>White</td>\n",
       "      <td>0</td>\n",
       "      <td>27</td>\n",
       "      <td>False</td>\n",
       "      <td>3,3</td>\n",
       "    </tr>\n",
       "    <tr>\n",
       "      <th>2</th>\n",
       "      <td>73.7</td>\n",
       "      <td>Male</td>\n",
       "      <td>16</td>\n",
       "      <td>Not Hisp/Latino</td>\n",
       "      <td>White</td>\n",
       "      <td>0</td>\n",
       "      <td>29</td>\n",
       "      <td>True</td>\n",
       "      <td>3,3</td>\n",
       "    </tr>\n",
       "    <tr>\n",
       "      <th>3</th>\n",
       "      <td>80.4</td>\n",
       "      <td>Female</td>\n",
       "      <td>13</td>\n",
       "      <td>Not Hisp/Latino</td>\n",
       "      <td>White</td>\n",
       "      <td>0</td>\n",
       "      <td>25</td>\n",
       "      <td>True</td>\n",
       "      <td>3,3</td>\n",
       "    </tr>\n",
       "    <tr>\n",
       "      <th>4</th>\n",
       "      <td>73.9</td>\n",
       "      <td>Female</td>\n",
       "      <td>12</td>\n",
       "      <td>Not Hisp/Latino</td>\n",
       "      <td>White</td>\n",
       "      <td>1</td>\n",
       "      <td>24</td>\n",
       "      <td>True</td>\n",
       "      <td>3,4</td>\n",
       "    </tr>\n",
       "  </tbody>\n",
       "</table>\n",
       "</div>"
      ],
      "text/plain": [
       "    AGE PTGENDER  PTEDUCAT         PTETHCAT PTRACCAT  APOE4  MMSE  \\\n",
       "0  81.3     Male        18  Not Hisp/Latino    White      1    20   \n",
       "1  67.5     Male        10      Hisp/Latino    White      0    27   \n",
       "2  73.7     Male        16  Not Hisp/Latino    White      0    29   \n",
       "3  80.4   Female        13  Not Hisp/Latino    White      0    25   \n",
       "4  73.9   Female        12  Not Hisp/Latino    White      1    24   \n",
       "\n",
       "  imputed_genotype APOE Genotype  \n",
       "0             True           3,4  \n",
       "1            False           3,3  \n",
       "2             True           3,3  \n",
       "3             True           3,3  \n",
       "4             True           3,4  "
      ]
     },
     "execution_count": 7,
     "metadata": {},
     "output_type": "execute_result"
    }
   ],
   "source": [
    "X = data\n",
    "Y = data['DX.bl']\n",
    "# del data\n",
    "\n",
    "remove_columns = list(X.columns)[0:9]\n",
    "remove_columns.append('Dx Codes for Submission')\n",
    "print('Removing columns:', remove_columns)\n",
    "\n",
    "X = X.drop(remove_columns, axis=1)\n",
    "\n",
    "features = list(X.columns)\n",
    "X.head(5)"
   ]
  },
  {
   "cell_type": "markdown",
   "metadata": {},
   "source": [
    "<h1 style=\"background-color: #080205; padding: 10px; border-radius: 5px; text-align:center; color:#ecf0f1; font-weight:600; text-shadow: 2px 2px 2px #888888;\">\n",
    "    Exploratory Data Analysis (EDA)\n",
    "</h1>"
   ]
  },
  {
   "cell_type": "markdown",
   "metadata": {},
   "source": [
    "<div style=\"text-align:center; color:orange; font-weight:600; font-family: 'Courier New', Times, serif; font-size: 1.5em;\">\n",
    "    Relationship between age and diagnosis (DX.bl) by plotting a scatterplot of age against diagnosis.\n",
    "</div>"
   ]
  },
  {
   "cell_type": "code",
   "execution_count": 8,
   "metadata": {},
   "outputs": [
    {
     "data": {
      "image/png": "[encoded data removed]",
      "text/plain": [
       "<Figure size 640x480 with 1 Axes>"
      ]
     },
     "metadata": {},
     "output_type": "display_data"
    }
   ],
   "source": [
    "plt.scatter(data['AGE'], data['DX.bl'])\n",
    "\n",
    "plt.xlabel('Age')\n",
    "plt.ylabel('Diagnosis')\n",
    "\n",
    "plt.show()"
   ]
  },
  {
   "cell_type": "markdown",
   "metadata": {},
   "source": [
    "<div style=\"text-align:center; color:orange; font-weight:600; font-family: 'Courier New', Times, serif; font-size: 1.7em;\">\n",
    "    Counts of gender and ethnicity across different diagnoses\n",
    "</div>"
   ]
  },
  {
   "cell_type": "code",
   "execution_count": 9,
   "metadata": {},
   "outputs": [
    {
     "name": "stdout",
     "output_type": "stream",
     "text": [
      "   DX.bl PTGENDER         PTETHCAT  count\n",
      "0     AD   Female  Not Hisp/Latino     64\n",
      "1     AD   Female          Unknown      1\n",
      "2     AD     Male  Not Hisp/Latino     68\n",
      "3     CN   Female      Hisp/Latino      2\n",
      "4     CN   Female  Not Hisp/Latino     89\n",
      "5     CN   Female          Unknown      1\n",
      "6     CN     Male  Not Hisp/Latino     98\n",
      "7   LMCI   Female      Hisp/Latino      4\n",
      "8   LMCI   Female  Not Hisp/Latino    102\n",
      "9   LMCI   Female          Unknown      1\n",
      "10  LMCI     Male      Hisp/Latino      2\n",
      "11  LMCI     Male  Not Hisp/Latino    195\n"
     ]
    }
   ],
   "source": [
    "gender_ethnicity_counts = data.groupby(['DX.bl', 'PTGENDER', 'PTETHCAT']).size().reset_index(name='count')\n",
    "print(gender_ethnicity_counts)"
   ]
  },
  {
   "cell_type": "markdown",
   "metadata": {},
   "source": [
    "<div style=\"text-align:center; color:orange; font-weight:600; font-family: 'Courier New', Times, serif; font-size: 1.7em;\">\n",
    "    Relationship between APOE4 genotype and diagnosis (DX.bl)\n",
    "</div>"
   ]
  },
  {
   "cell_type": "code",
   "execution_count": 10,
   "metadata": {},
   "outputs": [
    {
     "data": {
      "image/png": "[encoded data removed]",
      "text/plain": [
       "<Figure size 640x480 with 1 Axes>"
      ]
     },
     "metadata": {},
     "output_type": "display_data"
    }
   ],
   "source": [
    "sns.countplot(x='APOE4', hue='DX.bl', data=data)\n",
    "plt.title('Relationship between APOE4 genotype and diagnosis')\n",
    "plt.xlabel('APOE4 Genotype')\n",
    "plt.ylabel('Count')\n",
    "plt.show()"
   ]
  },
  {
   "cell_type": "markdown",
   "metadata": {},
   "source": [
    "<div style=\"text-align:center; color:orange; font-weight:600; font-family: 'Courier New', Times, serif; font-size: 1.7em;\">\n",
    "    Scatterplot of MMSE score against diagnosis\n",
    "</div>"
   ]
  },
  {
   "cell_type": "code",
   "execution_count": 11,
   "metadata": {},
   "outputs": [
    {
     "data": {
      "image/png": "[encoded data removed]",
      "text/plain": [
       "<Figure size 640x480 with 1 Axes>"
      ]
     },
     "metadata": {},
     "output_type": "display_data"
    }
   ],
   "source": [
    "plt.scatter(data['MMSE'], data['DX.bl'])\n",
    "\n",
    "plt.xlabel('MMSE Score')\n",
    "plt.ylabel('Diagnosis')\n",
    "\n",
    "plt.show()"
   ]
  },
  {
   "cell_type": "markdown",
   "metadata": {},
   "source": [
    "<div style=\"text-align:center; color:orange; font-weight:600; font-family: 'Courier New', Times, serif; font-size: 1.7em;\">\n",
    "    Plotting the counts of imputed genotype (imputed_genotype) across different diagnoses (DX.bl)\n",
    "</div>"
   ]
  },
  {
   "cell_type": "code",
   "execution_count": 12,
   "metadata": {},
   "outputs": [
    {
     "data": {
      "image/png": "[encoded data removed]",
      "text/plain": [
       "<Figure size 1000x600 with 1 Axes>"
      ]
     },
     "metadata": {},
     "output_type": "display_data"
    }
   ],
   "source": [
    "counts = data.groupby(['DX.bl', 'imputed_genotype']).size().reset_index(name='counts')\n",
    "\n",
    "plt.figure(figsize=(10,6))\n",
    "ax = sns.barplot(x=\"DX.bl\", y=\"counts\", hue=\"imputed_genotype\", data=counts)\n",
    "ax.set_title('Distribution of Imputed Genotype Across Different Diagnoses')\n",
    "plt.show()"
   ]
  },
  {
   "cell_type": "markdown",
   "metadata": {},
   "source": [
    "<div style=\"text-align:center; color:orange; font-weight:600; font-family: 'Courier New', Times, serif; font-size: 1.5em;\">\n",
    "    Relationship between APOE Genotype and diagnosis (DX.bl) by plotting a bar chart of APOE Genotype against diagnosis.\n",
    "</div>"
   ]
  },
  {
   "cell_type": "code",
   "execution_count": 13,
   "metadata": {},
   "outputs": [
    {
     "data": {
      "image/png": "[encoded data removed]",
      "text/plain": [
       "<Figure size 1000x600 with 1 Axes>"
      ]
     },
     "metadata": {},
     "output_type": "display_data"
    }
   ],
   "source": [
    "ax = data.groupby(['APOE Genotype', 'DX.bl']).size().unstack().plot(kind='bar', figsize=(10,6))\n",
    "\n",
    "ax.set_title('APOE Genotype vs Diagnosis')\n",
    "ax.set_xlabel('APOE Genotype')\n",
    "ax.set_ylabel('Diagnosis')\n",
    "\n",
    "plt.show()"
   ]
  },
  {
   "cell_type": "markdown",
   "metadata": {},
   "source": [
    "<div style=\"text-align:center; color:orange; font-weight:600; font-family: 'Courier New', Times, serif; font-size: 1.7em;\">\n",
    "    Categorical Variable Distributions\n",
    "</div>"
   ]
  },
  {
   "cell_type": "code",
   "execution_count": 14,
   "metadata": {},
   "outputs": [
    {
     "name": "stdout",
     "output_type": "stream",
     "text": [
      "Categorical variable distributions:\n",
      "\n",
      "\n",
      "Distribution of PTGENDER\n",
      "Male      363\n",
      "Female    264\n",
      "Name: PTGENDER, dtype: int64\n",
      "\n",
      "Distribution of APOE4\n",
      "0    322\n",
      "1    234\n",
      "2     71\n",
      "Name: APOE4, dtype: int64\n",
      "\n",
      "Distribution of PTETHCAT\n",
      "Not Hisp/Latino    616\n",
      "Hisp/Latino          8\n",
      "Unknown              3\n",
      "Name: PTETHCAT, dtype: int64\n",
      "\n",
      "Distribution of imputed_genotype\n",
      "True     466\n",
      "False    161\n",
      "Name: imputed_genotype, dtype: int64\n",
      "\n",
      "Distribution of APOE Genotype\n",
      "3,3    275\n",
      "3,4    221\n",
      "4,4     71\n",
      "2,3     45\n",
      "2,4     13\n",
      "2,2      2\n",
      "Name: APOE Genotype, dtype: int64\n",
      "\n",
      "Distribution of PTRACCAT\n",
      "White    583\n",
      "Black     31\n",
      "Asian     13\n",
      "Name: PTRACCAT, dtype: int64\n"
     ]
    }
   ],
   "source": [
    "numerical_vars = ['AGE', 'MMSE', 'PTEDUCAT']\n",
    "cat_vars = list(set(features) - set(numerical_vars))\n",
    "\n",
    "print('Categorical variable distributions:\\n')\n",
    "\n",
    "for var in cat_vars:\n",
    "    print('\\nDistribution of', var)\n",
    "    \n",
    "    print(X[var].value_counts())"
   ]
  },
  {
   "cell_type": "markdown",
   "metadata": {},
   "source": [
    "<div style=\"text-align:center; color:orange; font-weight:600; font-family: 'Courier New', Times, serif; font-size: 1.7em;\">\n",
    "    Numerical Variable Distributions\n",
    "</div>"
   ]
  },
  {
   "cell_type": "code",
   "execution_count": 15,
   "metadata": {},
   "outputs": [
    {
     "name": "stdout",
     "output_type": "stream",
     "text": [
      "Numerical Var Distributions:\n",
      "\n"
     ]
    },
    {
     "data": {
      "image/png": "[encoded data removed]",
      "text/plain": [
       "<Figure size 640x480 with 1 Axes>"
      ]
     },
     "metadata": {},
     "output_type": "display_data"
    },
    {
     "name": "stdout",
     "output_type": "stream",
     "text": [
      "count    627.000000\n",
      "mean      75.161882\n",
      "std        6.689979\n",
      "min       55.100000\n",
      "25%       71.200000\n",
      "50%       75.400000\n",
      "75%       80.000000\n",
      "max       89.600000\n",
      "Name: AGE, dtype: float64\n"
     ]
    },
    {
     "data": {
      "image/png": "[encoded data removed]",
      "text/plain": [
       "<Figure size 640x480 with 1 Axes>"
      ]
     },
     "metadata": {},
     "output_type": "display_data"
    },
    {
     "name": "stdout",
     "output_type": "stream",
     "text": [
      "count    627.000000\n",
      "mean      26.921850\n",
      "std        2.563934\n",
      "min       20.000000\n",
      "25%       25.000000\n",
      "50%       27.000000\n",
      "75%       29.000000\n",
      "max       30.000000\n",
      "Name: MMSE, dtype: float64\n"
     ]
    },
    {
     "data": {
      "image/png": "[encoded data removed]",
      "text/plain": [
       "<Figure size 640x480 with 1 Axes>"
      ]
     },
     "metadata": {},
     "output_type": "display_data"
    },
    {
     "name": "stdout",
     "output_type": "stream",
     "text": [
      "count    627.000000\n",
      "mean      15.612440\n",
      "std        2.978845\n",
      "min        6.000000\n",
      "25%       13.000000\n",
      "50%       16.000000\n",
      "75%       18.000000\n",
      "max       20.000000\n",
      "Name: PTEDUCAT, dtype: float64\n"
     ]
    }
   ],
   "source": [
    "print('Numerical Var Distributions:\\n')\n",
    "\n",
    "for var in numerical_vars:\n",
    "    plt.hist(X[var], bins=10)\n",
    "    plt.title(var + ' Distribution')\n",
    "    plt.show()\n",
    "    \n",
    "    print(X[var].describe())"
   ]
  },
  {
   "cell_type": "markdown",
   "metadata": {},
   "source": [
    "<!-- <p style=\"color: #3498db; font-size: 18px; font-weight: bold;\">Stylish Text 1</p>\n",
    "<p style=\"font-family: 'Courier New', monospace; font-size: 20px; color: #2ecc71;\">Stylish Text 2</p>\n",
    "<p style=\"text-transform: uppercase; letter-spacing: 2px; font-size: 16px; color: #e74c3c;\">Stylish Text 3</p>\n",
    "<p style=\"font-style: italic; font-size: 22px; color: #f39c12;\">Stylish Text 4</p>\n",
    "<p style=\"text-decoration: underline; font-size: 18px; color: #9b59b6;\">Stylish Text 5</p>\n",
    "<p style=\"font-family: 'Times New Roman', serif; font-size: 24px; color: #34495e;\">Stylish Text 6</p>\n",
    "<p style=\"font-weight: 700; font-size: 20px; color: #1abc9c;\">Stylish Text 8</p>\n",
    "<p style=\"text-shadow: 2px 2px 4px #888888; font-size: 18px; color: #c0392b;\">Stylish Text 9</p>\n",
    "<p style=\"font-size: 22px; color: #3498db; transform: rotate(15deg);\">Stylish Text 10</p> -->"
   ]
  },
  {
   "cell_type": "markdown",
   "metadata": {},
   "source": [
    "<div style=\"text-align:center; color:orange; font-weight:600; font-family: 'Courier New', Times, serif; font-size: 1.7em;\">\n",
    "    Analyzing target (y) distribution\n",
    "</div>"
   ]
  },
  {
   "cell_type": "code",
   "execution_count": 16,
   "metadata": {},
   "outputs": [
    {
     "data": {
      "image/png": "[encoded data removed]",
      "text/plain": [
       "<Figure size 640x480 with 1 Axes>"
      ]
     },
     "metadata": {},
     "output_type": "display_data"
    }
   ],
   "source": [
    "plt.bar(Y.value_counts().index, Y.value_counts())\n",
    "plt.show()"
   ]
  },
  {
   "cell_type": "markdown",
   "metadata": {},
   "source": [
    "<h1 style=\"background-color: #080205; padding: 10px; border-radius: 5px; text-align:center; color:#ecf0f1; font-weight:600; text-shadow: 2px 2px 2px #888888;\">\n",
    "    Preprocessing\n",
    "</h1>"
   ]
  },
  {
   "cell_type": "markdown",
   "metadata": {},
   "source": [
    "<div style=\"text-align:center; color:yellow; font-weight:600; font-family: 'Courier New', Times, serif; font-size: 2em;\">\n",
    "    Converting the Categorical Variables to 1-Hot\n",
    "</div>"
   ]
  },
  {
   "cell_type": "code",
   "execution_count": 17,
   "metadata": {},
   "outputs": [
    {
     "name": "stdout",
     "output_type": "stream",
     "text": [
      "Converting PTGENDER to 1-hot encoding\n",
      "Converting APOE4 to 1-hot encoding\n",
      "Converting PTETHCAT to 1-hot encoding\n",
      "Converting imputed_genotype to 1-hot encoding\n",
      "Converting APOE Genotype to 1-hot encoding\n",
      "Converting PTRACCAT to 1-hot encoding\n"
     ]
    },
    {
     "data": {
      "text/html": [
       "<div>\n",
       "<style scoped>\n",
       "    .dataframe tbody tr th:only-of-type {\n",
       "        vertical-align: middle;\n",
       "    }\n",
       "\n",
       "    .dataframe tbody tr th {\n",
       "        vertical-align: top;\n",
       "    }\n",
       "\n",
       "    .dataframe thead th {\n",
       "        text-align: right;\n",
       "    }\n",
       "</style>\n",
       "<table border=\"1\" class=\"dataframe\">\n",
       "  <thead>\n",
       "    <tr style=\"text-align: right;\">\n",
       "      <th></th>\n",
       "      <th>AGE</th>\n",
       "      <th>PTEDUCAT</th>\n",
       "      <th>MMSE</th>\n",
       "      <th>PTGENDER_Female</th>\n",
       "      <th>PTGENDER_Male</th>\n",
       "      <th>APOE4_0</th>\n",
       "      <th>APOE4_1</th>\n",
       "      <th>APOE4_2</th>\n",
       "      <th>PTETHCAT_Hisp/Latino</th>\n",
       "      <th>PTETHCAT_Not Hisp/Latino</th>\n",
       "      <th>...</th>\n",
       "      <th>imputed_genotype_True</th>\n",
       "      <th>APOE Genotype_2,2</th>\n",
       "      <th>APOE Genotype_2,3</th>\n",
       "      <th>APOE Genotype_2,4</th>\n",
       "      <th>APOE Genotype_3,3</th>\n",
       "      <th>APOE Genotype_3,4</th>\n",
       "      <th>APOE Genotype_4,4</th>\n",
       "      <th>PTRACCAT_Asian</th>\n",
       "      <th>PTRACCAT_Black</th>\n",
       "      <th>PTRACCAT_White</th>\n",
       "    </tr>\n",
       "  </thead>\n",
       "  <tbody>\n",
       "    <tr>\n",
       "      <th>0</th>\n",
       "      <td>81.3</td>\n",
       "      <td>18</td>\n",
       "      <td>20</td>\n",
       "      <td>0</td>\n",
       "      <td>1</td>\n",
       "      <td>0</td>\n",
       "      <td>1</td>\n",
       "      <td>0</td>\n",
       "      <td>0</td>\n",
       "      <td>1</td>\n",
       "      <td>...</td>\n",
       "      <td>1</td>\n",
       "      <td>0</td>\n",
       "      <td>0</td>\n",
       "      <td>0</td>\n",
       "      <td>0</td>\n",
       "      <td>1</td>\n",
       "      <td>0</td>\n",
       "      <td>0</td>\n",
       "      <td>0</td>\n",
       "      <td>1</td>\n",
       "    </tr>\n",
       "    <tr>\n",
       "      <th>1</th>\n",
       "      <td>67.5</td>\n",
       "      <td>10</td>\n",
       "      <td>27</td>\n",
       "      <td>0</td>\n",
       "      <td>1</td>\n",
       "      <td>1</td>\n",
       "      <td>0</td>\n",
       "      <td>0</td>\n",
       "      <td>1</td>\n",
       "      <td>0</td>\n",
       "      <td>...</td>\n",
       "      <td>0</td>\n",
       "      <td>0</td>\n",
       "      <td>0</td>\n",
       "      <td>0</td>\n",
       "      <td>1</td>\n",
       "      <td>0</td>\n",
       "      <td>0</td>\n",
       "      <td>0</td>\n",
       "      <td>0</td>\n",
       "      <td>1</td>\n",
       "    </tr>\n",
       "    <tr>\n",
       "      <th>2</th>\n",
       "      <td>73.7</td>\n",
       "      <td>16</td>\n",
       "      <td>29</td>\n",
       "      <td>0</td>\n",
       "      <td>1</td>\n",
       "      <td>1</td>\n",
       "      <td>0</td>\n",
       "      <td>0</td>\n",
       "      <td>0</td>\n",
       "      <td>1</td>\n",
       "      <td>...</td>\n",
       "      <td>1</td>\n",
       "      <td>0</td>\n",
       "      <td>0</td>\n",
       "      <td>0</td>\n",
       "      <td>1</td>\n",
       "      <td>0</td>\n",
       "      <td>0</td>\n",
       "      <td>0</td>\n",
       "      <td>0</td>\n",
       "      <td>1</td>\n",
       "    </tr>\n",
       "    <tr>\n",
       "      <th>3</th>\n",
       "      <td>80.4</td>\n",
       "      <td>13</td>\n",
       "      <td>25</td>\n",
       "      <td>1</td>\n",
       "      <td>0</td>\n",
       "      <td>1</td>\n",
       "      <td>0</td>\n",
       "      <td>0</td>\n",
       "      <td>0</td>\n",
       "      <td>1</td>\n",
       "      <td>...</td>\n",
       "      <td>1</td>\n",
       "      <td>0</td>\n",
       "      <td>0</td>\n",
       "      <td>0</td>\n",
       "      <td>1</td>\n",
       "      <td>0</td>\n",
       "      <td>0</td>\n",
       "      <td>0</td>\n",
       "      <td>0</td>\n",
       "      <td>1</td>\n",
       "    </tr>\n",
       "  </tbody>\n",
       "</table>\n",
       "<p>4 rows × 22 columns</p>\n",
       "</div>"
      ],
      "text/plain": [
       "    AGE  PTEDUCAT  MMSE  PTGENDER_Female  PTGENDER_Male  APOE4_0  APOE4_1  \\\n",
       "0  81.3        18    20                0              1        0        1   \n",
       "1  67.5        10    27                0              1        1        0   \n",
       "2  73.7        16    29                0              1        1        0   \n",
       "3  80.4        13    25                1              0        1        0   \n",
       "\n",
       "   APOE4_2  PTETHCAT_Hisp/Latino  PTETHCAT_Not Hisp/Latino  ...  \\\n",
       "0        0                     0                         1  ...   \n",
       "1        0                     1                         0  ...   \n",
       "2        0                     0                         1  ...   \n",
       "3        0                     0                         1  ...   \n",
       "\n",
       "   imputed_genotype_True  APOE Genotype_2,2  APOE Genotype_2,3  \\\n",
       "0                      1                  0                  0   \n",
       "1                      0                  0                  0   \n",
       "2                      1                  0                  0   \n",
       "3                      1                  0                  0   \n",
       "\n",
       "   APOE Genotype_2,4  APOE Genotype_3,3  APOE Genotype_3,4  APOE Genotype_4,4  \\\n",
       "0                  0                  0                  1                  0   \n",
       "1                  0                  1                  0                  0   \n",
       "2                  0                  1                  0                  0   \n",
       "3                  0                  1                  0                  0   \n",
       "\n",
       "   PTRACCAT_Asian  PTRACCAT_Black  PTRACCAT_White  \n",
       "0               0               0               1  \n",
       "1               0               0               1  \n",
       "2               0               0               1  \n",
       "3               0               0               1  \n",
       "\n",
       "[4 rows x 22 columns]"
      ]
     },
     "execution_count": 17,
     "metadata": {},
     "output_type": "execute_result"
    }
   ],
   "source": [
    "for var in cat_vars:\n",
    "    print(f'Converting {var} to 1-hot encoding')\n",
    "    one_hot_df = pd.get_dummies(X[var], prefix=var)\n",
    "    X = pd.concat([X, one_hot_df], axis=1)\n",
    "    X.drop(var, axis=1, inplace=True)\n",
    "    \n",
    "X.head(4)"
   ]
  },
  {
   "cell_type": "markdown",
   "metadata": {},
   "source": [
    "<div style=\"text-align:center; color:yellow; font-weight:600; font-family: 'Courier New', Times, serif; font-size: 2em;\">\n",
    "    Normalization function\n",
    "</div>"
   ]
  },
  {
   "cell_type": "code",
   "execution_count": 18,
   "metadata": {},
   "outputs": [],
   "source": [
    "def normalize(X):\n",
    "    X = np.array(X)\n",
    "    means = np.mean(X, axis=0)\n",
    "    stds = np.std(X, axis=0)\n",
    "\n",
    "    normalized_X = (X - means) / stds\n",
    "\n",
    "    print('Normalizing:')\n",
    "    for i, (mean, std) in enumerate(zip(means, stds)):\n",
    "        print(f'  Variable {i+1}: Mean = {mean:.2f}, Standard Deviation = {std:.2f}')\n",
    "\n",
    "    return normalized_X"
   ]
  },
  {
   "cell_type": "markdown",
   "metadata": {},
   "source": [
    "<div style=\"text-align:center; color:yellow; font-weight:600; font-family: 'Courier New', Times, serif; font-size: 2em;\">\n",
    "    Splitting the dataset\n",
    "</div>"
   ]
  },
  {
   "cell_type": "code",
   "execution_count": 19,
   "metadata": {},
   "outputs": [],
   "source": [
    "X_train, X_test, y_train, y_test = train_test_split(X, Y, test_size=.2)\n",
    "\n",
    "num_test = X_test.shape[0]"
   ]
  },
  {
   "cell_type": "markdown",
   "metadata": {},
   "source": [
    "<h1 style=\"background-color: #080205; padding: 10px; border-radius: 5px; text-align:center; color:#ecf0f1; font-weight:600; text-shadow: 2px 2px 2px #888888;\">\n",
    "    Comparing between models\n",
    "</h1>"
   ]
  },
  {
   "cell_type": "code",
   "execution_count": 20,
   "metadata": {},
   "outputs": [],
   "source": [
    "X_train.columns = X_train.columns.astype(str)\n",
    "X_test.columns = X_test.columns.astype(str)"
   ]
  },
  {
   "cell_type": "markdown",
   "metadata": {},
   "source": [
    "### Checking each model's accuracy"
   ]
  },
  {
   "cell_type": "markdown",
   "metadata": {},
   "source": [
    "<div style=\"text-align:center; color:lightgreen; font-weight:600; font-family: 'Courier New', Times, serif; font-size: 2.0em;\">\n",
    "    Linear Discriminant Analysis\n",
    "</div>"
   ]
  },
  {
   "cell_type": "code",
   "execution_count": 21,
   "metadata": {},
   "outputs": [
    {
     "name": "stdout",
     "output_type": "stream",
     "text": [
      "Cross Validation: 68.45%\n",
      "Accuracy: 73.81%\n",
      "Precision: 74.55%\n",
      "Recall: 73.81%\n",
      "F1 Score: 73.96%\n",
      "Confusion Matrix:\n"
     ]
    },
    {
     "data": {
      "image/png": "[encoded data removed]",
      "text/plain": [
       "<Figure size 640x480 with 2 Axes>"
      ]
     },
     "metadata": {},
     "output_type": "display_data"
    }
   ],
   "source": [
    "lda_clf = LinearDiscriminantAnalysis(solver='svd', store_covariance=False, tol=0.0001)\n",
    "lda_clf.fit(X_train, y_train)\n",
    "\n",
    "y_pred = lda_clf.predict(X_test)\n",
    "\n",
    "print('Cross Validation:', format(cross_val_score(lda_clf, X_train, y_train, cv=5).mean(), '.2%'))\n",
    "print('Accuracy:', format(accuracy_score(y_test, y_pred), '.2%'))\n",
    "print('Precision:', format(precision_score(y_test, y_pred, average='weighted'), '.2%'))\n",
    "print('Recall:', format(recall_score(y_test, y_pred, average='weighted'), '.2%'))\n",
    "print('F1 Score:', format(f1_score(y_test, y_pred, average='weighted'), '.2%'))\n",
    "\n",
    "print('Confusion Matrix:')\n",
    "conf_matrix = confusion_matrix(y_test, y_pred)\n",
    "\n",
    "sns.heatmap(conf_matrix, annot=True, cmap='Blues')\n",
    "plt.xlabel('Predicted Labels')\n",
    "plt.ylabel('True Labels')\n",
    "plt.show()"
   ]
  },
  {
   "cell_type": "markdown",
   "metadata": {},
   "source": [
    "<div style=\"text-align:center; color:lightgreen; font-weight:600; font-family: 'Courier New', Times, serif; font-size: 2.0em;\">\n",
    "    Logistic Regression\n",
    "</div>"
   ]
  },
  {
   "cell_type": "code",
   "execution_count": 22,
   "metadata": {},
   "outputs": [
    {
     "name": "stdout",
     "output_type": "stream",
     "text": [
      "Cross Validation: 69.85%\n",
      "Accuracy: 71.43%\n",
      "Precision: 71.95%\n",
      "Recall: 71.43%\n",
      "F1 Score: 71.60%\n",
      "Confusion Matrix:\n"
     ]
    },
    {
     "data": {
      "image/png": "[encoded data removed]",
      "text/plain": [
       "<Figure size 640x480 with 2 Axes>"
      ]
     },
     "metadata": {},
     "output_type": "display_data"
    }
   ],
   "source": [
    "log_clf = LogisticRegression(solver='lbfgs', penalty='l2', max_iter=1000000, multi_class='multinomial')\n",
    "log_clf.fit(X_train, y_train)\n",
    "\n",
    "y_pred = log_clf.predict(X_test)\n",
    "\n",
    "print('Cross Validation:', format(cross_val_score(log_clf, X_train, y_train, cv=5).mean(), '.2%'))\n",
    "print('Accuracy:', format(accuracy_score(y_test, y_pred), '.2%'))\n",
    "print('Precision:', format(precision_score(y_test, y_pred, average='weighted'), '.2%'))\n",
    "print('Recall:', format(recall_score(y_test, y_pred, average='weighted'), '.2%'))\n",
    "print('F1 Score:', format(f1_score(y_test, y_pred, average='weighted'), '.2%'))\n",
    "\n",
    "print('Confusion Matrix:')\n",
    "conf_matrix = confusion_matrix(y_test, y_pred)\n",
    "\n",
    "sns.heatmap(conf_matrix, annot=True, cmap='Blues')\n",
    "plt.xlabel('Predicted Labels')\n",
    "plt.ylabel('True Labels')\n",
    "plt.show()"
   ]
  },
  {
   "cell_type": "markdown",
   "metadata": {},
   "source": [
    "<div style=\"text-align:center; color:lightgreen; font-weight:600; font-family: 'Courier New', Times, serif; font-size: 2.0em;\">\n",
    "    Random Forest Classifier\n",
    "</div>"
   ]
  },
  {
   "cell_type": "code",
   "execution_count": 23,
   "metadata": {},
   "outputs": [
    {
     "name": "stdout",
     "output_type": "stream",
     "text": [
      "Cross Validation: 63.47%\n",
      "Accuracy: 60.32%\n",
      "Precision: 60.73%\n",
      "Recall: 60.32%\n",
      "F1 Score: 60.26%\n",
      "Confusion Matrix:\n"
     ]
    },
    {
     "data": {
      "image/png": "[encoded data removed]",
      "text/plain": [
       "<Figure size 640x480 with 2 Axes>"
      ]
     },
     "metadata": {},
     "output_type": "display_data"
    }
   ],
   "source": [
    "rf_clf = RandomForestClassifier(bootstrap=True, ccp_alpha=0.0, class_weight=None,\n",
    "                                criterion='gini', max_depth=None, max_features='sqrt',\n",
    "                                max_leaf_nodes=None, max_samples=None,\n",
    "                                min_impurity_decrease=0.0, min_samples_leaf=1,\n",
    "                                min_samples_split=2, min_weight_fraction_leaf=0.0,\n",
    "                                n_estimators=100, n_jobs=-1, oob_score=False,\n",
    "                                random_state=123, verbose=0, warm_start=False)\n",
    "\n",
    "rf_clf.fit(X_train, y_train)\n",
    "\n",
    "y_pred = rf_clf.predict(X_test)\n",
    "\n",
    "print('Cross Validation:', format(cross_val_score(rf_clf, X_train, y_train, cv=5).mean(), '.2%'))\n",
    "print('Accuracy:', format(accuracy_score(y_test, y_pred), '.2%'))\n",
    "print('Precision:', format(precision_score(y_test, y_pred, average='weighted'), '.2%'))\n",
    "print('Recall:', format(recall_score(y_test, y_pred, average='weighted'), '.2%'))\n",
    "print('F1 Score:', format(f1_score(y_test, y_pred, average='weighted'), '.2%'))\n",
    "\n",
    "print('Confusion Matrix:')\n",
    "conf_matrix = confusion_matrix(y_test, y_pred)\n",
    "\n",
    "sns.heatmap(conf_matrix, annot=True, cmap='Blues')\n",
    "plt.xlabel('Predicted Labels')\n",
    "plt.ylabel('True Labels')\n",
    "plt.show()"
   ]
  },
  {
   "cell_type": "markdown",
   "metadata": {},
   "source": [
    "<div style=\"text-align:center; color:lightgreen; font-weight:600; font-family: 'Courier New', Times, serif; font-size: 2.0em;\">\n",
    "    Ridge Classifier\n",
    "</div>"
   ]
  },
  {
   "cell_type": "code",
   "execution_count": 24,
   "metadata": {},
   "outputs": [
    {
     "name": "stdout",
     "output_type": "stream",
     "text": [
      "Cross Validation: 63.07%\n",
      "Accuracy: 67.46%\n",
      "Precision: 67.98%\n",
      "Recall: 67.46%\n",
      "F1 Score: 67.45%\n",
      "Confusion Matrix:\n"
     ]
    },
    {
     "data": {
      "image/png": "[encoded data removed]",
      "text/plain": [
       "<Figure size 640x480 with 2 Axes>"
      ]
     },
     "metadata": {},
     "output_type": "display_data"
    }
   ],
   "source": [
    "rg_clf = RidgeClassifier(alpha=1.0, copy_X=True, fit_intercept=True, random_state=123, solver='auto', tol=0.0001)\n",
    "rg_clf.fit(X_train, y_train)\n",
    "\n",
    "y_pred = rg_clf.predict(X_test)\n",
    "\n",
    "print('Cross Validation:', format(cross_val_score(rg_clf, X_train, y_train, cv=5).mean(), '.2%'))\n",
    "print('Accuracy:', format(accuracy_score(y_test, y_pred), '.2%'))\n",
    "print('Precision:', format(precision_score(y_test, y_pred, average='weighted'), '.2%'))\n",
    "print('Recall:', format(recall_score(y_test, y_pred, average='weighted'), '.2%'))\n",
    "print('F1 Score:', format(f1_score(y_test, y_pred, average='weighted'), '.2%'))\n",
    "\n",
    "print('Confusion Matrix:')\n",
    "conf_matrix = confusion_matrix(y_test, y_pred)\n",
    "\n",
    "sns.heatmap(conf_matrix, annot=True, cmap='Blues')\n",
    "plt.xlabel('Predicted Labels')\n",
    "plt.ylabel('True Labels')\n",
    "plt.show()"
   ]
  },
  {
   "cell_type": "markdown",
   "metadata": {},
   "source": [
    "<div style=\"text-align:center; color:lightgreen; font-weight:600; font-family: 'Courier New', Times, serif; font-size: 2.0em;\">\n",
    "    Gradient Boosting Classifier\n",
    "</div>"
   ]
  },
  {
   "cell_type": "code",
   "execution_count": 25,
   "metadata": {},
   "outputs": [
    {
     "name": "stdout",
     "output_type": "stream",
     "text": [
      "Cross Validation: 66.26%\n",
      "Accuracy: 64.29%\n",
      "Precision: 64.97%\n",
      "Recall: 64.29%\n",
      "F1 Score: 64.48%\n",
      "Confusion Matrix:\n"
     ]
    },
    {
     "data": {
      "image/png": "[encoded data removed]",
      "text/plain": [
       "<Figure size 640x480 with 2 Axes>"
      ]
     },
     "metadata": {},
     "output_type": "display_data"
    }
   ],
   "source": [
    "gb_clf = GradientBoostingClassifier(ccp_alpha=0.0, criterion='friedman_mse', init=None,\n",
    "                            learning_rate=0.1, loss='log_loss', max_depth=3,\n",
    "                            max_features=None, max_leaf_nodes=None,\n",
    "                            min_impurity_decrease=0.0, min_samples_leaf=1,\n",
    "                            min_samples_split=2, min_weight_fraction_leaf=0.0,\n",
    "                            n_estimators=100, n_iter_no_change=None,\n",
    "                            random_state=123, subsample=1.0, tol=0.0001,\n",
    "                            validation_fraction=0.1, verbose=0,\n",
    "                            warm_start=False)\n",
    "\n",
    "gb_clf.fit(X_train, y_train)\n",
    "\n",
    "y_pred = gb_clf.predict(X_test)\n",
    "\n",
    "print('Cross Validation:', format(cross_val_score(gb_clf, X_train, y_train, cv=5).mean(), '.2%'))\n",
    "print('Accuracy:', format(accuracy_score(y_test, y_pred), '.2%'))\n",
    "print('Precision:', format(precision_score(y_test, y_pred, average='weighted'), '.2%'))\n",
    "print('Recall:', format(recall_score(y_test, y_pred, average='weighted'), '.2%'))\n",
    "print('F1 Score:', format(f1_score(y_test, y_pred, average='weighted'), '.2%'))\n",
    "\n",
    "print('Confusion Matrix:')\n",
    "conf_matrix = confusion_matrix(y_test, y_pred)\n",
    "\n",
    "sns.heatmap(conf_matrix, annot=True, cmap='Blues')\n",
    "plt.xlabel('Predicted Labels')\n",
    "plt.ylabel('True Labels')\n",
    "plt.show()"
   ]
  },
  {
   "cell_type": "markdown",
   "metadata": {},
   "source": [
    "<div style=\"text-align:center; color:lightgreen; font-weight:600; font-family: 'Courier New', Times, serif; font-size: 2.0em;\">\n",
    "    Multi-layer Perceptron (MLP) Classifier\n",
    "</div>"
   ]
  },
  {
   "cell_type": "code",
   "execution_count": 26,
   "metadata": {},
   "outputs": [
    {
     "name": "stdout",
     "output_type": "stream",
     "text": [
      "Cross Validation: 49.48%\n",
      "Accuracy: 68.25%\n",
      "Precision: 70.75%\n",
      "Recall: 68.25%\n",
      "F1 Score: 67.24%\n",
      "Confusion Matrix:\n"
     ]
    },
    {
     "data": {
      "image/png": "[encoded data removed]",
      "text/plain": [
       "<Figure size 640x480 with 2 Axes>"
      ]
     },
     "metadata": {},
     "output_type": "display_data"
    }
   ],
   "source": [
    "mlp_clf = MLPClassifier(hidden_layer_sizes=(15, 10), alpha=3, learning_rate='adaptive', max_iter=100000)\n",
    "mlp_clf.fit(X_train, y_train)\n",
    "\n",
    "y_pred = mlp_clf.predict(X_test)\n",
    "\n",
    "print('Cross Validation:', format(cross_val_score(mlp_clf, X_train, y_train, cv=5).mean(), '.2%'))\n",
    "print('Accuracy:', format(accuracy_score(y_test, y_pred), '.2%'))\n",
    "print('Precision:', format(precision_score(y_test, y_pred, average='weighted'), '.2%'))\n",
    "print('Recall:', format(recall_score(y_test, y_pred, average='weighted'), '.2%'))\n",
    "print('F1 Score:', format(f1_score(y_test, y_pred, average='weighted'), '.2%'))\n",
    "\n",
    "print('Confusion Matrix:')\n",
    "conf_matrix = confusion_matrix(y_test, y_pred)\n",
    "\n",
    "sns.heatmap(conf_matrix, annot=True, cmap='Blues')\n",
    "plt.xlabel('Predicted Labels')\n",
    "plt.ylabel('True Labels')\n",
    "plt.show()"
   ]
  },
  {
   "cell_type": "markdown",
   "metadata": {},
   "source": [
    "<div style=\"text-align:center; color:lightgreen; font-weight:600; font-family: 'Courier New', Times, serif; font-size: 2.0em;\">\n",
    "    Conclusion\n",
    "</div>"
   ]
  },
  {
   "cell_type": "markdown",
   "metadata": {},
   "source": [
    "<!-- <center>\n",
    "  <table>\n",
    "    <thead>\n",
    "      <tr>\n",
    "        <th>Model</th>\n",
    "        <th>Cross Val</th>\n",
    "        <th>Accuracy</th>\n",
    "        <th>Precision</th>\n",
    "        <th>Recall</th>\n",
    "        <th>F1 Score</th>\n",
    "      </tr>\n",
    "    </thead>\n",
    "    <tbody>\n",
    "      <tr>\n",
    "        <td>Linear Discriminant Analysis</td>\n",
    "        <td>69.86</td>\n",
    "        <td>66.67</td>\n",
    "        <td>67.52</td>\n",
    "        <td>66.67</td>\n",
    "        <td>66.62</td>\n",
    "      </tr>\n",
    "      <tr style=\"background-color: green;\">\n",
    "        <td>Logistic Regression</td>\n",
    "        <td>70.66</td>\n",
    "        <td>68.25</td>\n",
    "        <td>68.63</td>\n",
    "        <td>68.25</td>\n",
    "        <td>68.12</td>\n",
    "      </tr>\n",
    "      <tr>\n",
    "        <td>Random Forest Classifier</td>\n",
    "        <td>65.66</td>\n",
    "        <td>64.29</td>\n",
    "        <td>63.94</td>\n",
    "        <td>64.29</td>\n",
    "        <td>63.87</td>\n",
    "      </tr>\n",
    "      <tr>\n",
    "        <td>Ridge Classifier</td>\n",
    "        <td>64.87</td>\n",
    "        <td>63.49</td>\n",
    "        <td>65.01</td>\n",
    "        <td>63.49</td>\n",
    "        <td>63.51</td>\n",
    "      </tr>\n",
    "      <tr>\n",
    "        <td>Gradient Boosting Classifier</td>\n",
    "        <td>66.27</td>\n",
    "        <td>64.29</td>\n",
    "        <td>65.17</td>\n",
    "        <td>64.29</td>\n",
    "        <td>64.07</td>\n",
    "      </tr>\n",
    "      <tr>\n",
    "        <td>MLP Classifier</td>\n",
    "        <td>51.28</td>\n",
    "        <td>63.29</td>\n",
    "        <td>63.61</td>\n",
    "        <td>63.49</td>\n",
    "        <td>62.97</td>\n",
    "      </tr>\n",
    "    </tbody>\n",
    "  </table>\n",
    "</center> -->\n",
    "\n",
    "Choosing Logistic Regression with validation Score .67"
   ]
  },
  {
   "cell_type": "markdown",
   "metadata": {},
   "source": [
    "<h1 style=\"background-color: #080205; padding: 10px; border-radius: 5px; text-align:center; color:#ecf0f1; font-weight:600; text-shadow: 2px 2px 2px #888888;\">\n",
    "    Model Selection\n",
    "</h1>"
   ]
  },
  {
   "cell_type": "markdown",
   "metadata": {},
   "source": [
    "### Testing Logistic Regression Model"
   ]
  },
  {
   "cell_type": "code",
   "execution_count": 27,
   "metadata": {},
   "outputs": [
    {
     "name": "stdout",
     "output_type": "stream",
     "text": [
      "Test Accuracy = 71.43%\n"
     ]
    }
   ],
   "source": [
    "log_clf_preds = log_clf.predict(X_test)\n",
    "    \n",
    "log_clf_accuracy = (log_clf_preds == y_test)\n",
    "print('Test Accuracy =', format( np.sum(log_clf_accuracy)/num_test, '.2%'))"
   ]
  },
  {
   "cell_type": "markdown",
   "metadata": {},
   "source": [
    "<h1 style=\"background-color: #080205; padding: 10px; border-radius: 5px; text-align:center; color:#ecf0f1; font-weight:600; text-shadow: 2px 2px 2px #888888;\">\n",
    "    Exporting the final model\n",
    "</h1>"
   ]
  },
  {
   "cell_type": "code",
   "execution_count": 28,
   "metadata": {},
   "outputs": [
    {
     "data": {
      "text/plain": [
       "['model/alzheimer_model.pkl']"
      ]
     },
     "execution_count": 28,
     "metadata": {},
     "output_type": "execute_result"
    }
   ],
   "source": [
    "joblib.dump(log_clf, 'model/alzheimer_model.pkl')"
   ]
  }
 ],
 "metadata": {
  "kernelspec": {
   "display_name": "Python 3",
   "language": "python",
   "name": "python3"
  },
  "language_info": {
   "codemirror_mode": {
    "name": "ipython",
    "version": 3
   },
   "file_extension": ".py",
   "mimetype": "text/x-python",
   "name": "python",
   "nbconvert_exporter": "python",
   "pygments_lexer": "ipython3",
   "version": "3.10.13"
  }
 },
 "nbformat": 4,
 "nbformat_minor": 2
}
